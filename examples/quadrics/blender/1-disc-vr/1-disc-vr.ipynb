{
 "cells": [
  {
   "cell_type": "markdown",
   "id": "05f04465-06b9-4ea4-b67f-5d327dfc0805",
   "metadata": {},
   "source": [
    "## 1.Disc example with variance reduction techniques"
   ]
  },
  {
   "cell_type": "markdown",
   "id": "744b5968-b283-4c5f-a486-0ebb54d3772b",
   "metadata": {},
   "source": [
    "### This example presents a point source of electrons and a homogeneous disc phantom of *Cu*.\n"
   ]
  },
  {
   "cell_type": "markdown",
   "id": "131f7904-bd58-4ee4-a450-f5c0ef0ec6d6",
   "metadata": {},
   "source": [
    "- Source: a monoenergetic electron beam of 40 keV, located at *(x,y,z)* = (0.0,0.0,-0.0001) cm directed to the *z* positive axis.\n",
    "- Geometry: a disc with radius = 0.01 cm at plane XY, and a height of 0.005 cm at *z* axis with its base a *z* = 0 cm\n",
    "- Tallies:\n",
    "  - material energy deposition.\n",
    "  - cylindrical dose distribution.\n",
    "  - emerging particle distribution.\n",
    "  - impact detector: fluence and spectrum.\n",
    "  - spatial dose distribution.\n",
    "  - angular detector.\n",
    "- Variance reduction techniques aplied to the disc:\n",
    "  - electron interaction forcing (bremsstrahlung and inner shell interaction)\n",
    "  - x-ray and bremsstrahlung splitting "
   ]
  },
  {
   "cell_type": "markdown",
   "id": "37b9ea93-fc98-4813-a201-d07374ea0bfe",
   "metadata": {},
   "source": [
    "### Execution"
   ]
  },
  {
   "cell_type": "markdown",
   "id": "8c527b05-217b-464b-973d-ae0ca9dff5db",
   "metadata": {},
   "source": [
    "The PenRed module for Python is imported"
   ]
  },
  {
   "cell_type": "code",
   "execution_count": null,
   "id": "44d42158-d805-4c88-9d6d-c58b6cf087a1",
   "metadata": {},
   "outputs": [],
   "source": [
    "import pyPenred"
   ]
  },
  {
   "cell_type": "markdown",
   "id": "b9cd86b6-4cf3-46f5-8c8d-64b73a159089",
   "metadata": {},
   "source": [
    "Run the simulation"
   ]
  },
  {
   "cell_type": "code",
   "execution_count": null,
   "id": "ea2901d7-57d4-46e9-9560-4d87505c376f",
   "metadata": {},
   "outputs": [],
   "source": [
    "sim = pyPenred.runFromFile(\"disc.in\")"
   ]
  },
  {
   "cell_type": "markdown",
   "id": "b39f26f6-f1a8-41b2-9c70-c5f59bc9da5e",
   "metadata": {},
   "source": [
    "### Results"
   ]
  },
  {
   "cell_type": "markdown",
   "id": "c4e45e73-e026-4c12-98df-30486800fbef",
   "metadata": {},
   "source": [
    "##### Fluence and spectrum results"
   ]
  },
  {
   "cell_type": "code",
   "execution_count": null,
   "id": "16ba73ad-7273-45fc-967d-879ce27a2fe8",
   "metadata": {},
   "outputs": [],
   "source": [
    "pyPenred.plotResults(sim,\"disc_0_Impact-Detector\", titles=['fluence-electron', 'fluence-gamma', 'fluence-positron', 'spectrum-electron', 'spectrum-gamma', 'spectrum-positron'])"
   ]
  },
  {
   "cell_type": "markdown",
   "id": "21aee699-fa9e-4b79-9a47-11fcbfd3f25a",
   "metadata": {},
   "source": [
    "##### Emerging particle results"
   ]
  },
  {
   "cell_type": "code",
   "execution_count": null,
   "id": "dfa765a6-8f0b-4be9-8174-19f1ed6f27b1",
   "metadata": {},
   "outputs": [],
   "source": [
    "pyPenred.plotResults(sim,\"0_Emerging-Part\", titles=['Emerging-upbound-electrons', 'Emerging-upbound-gamma', 'Emerging-upbound-positrons', 'Emerging-downbound-electrons', 'Emerging-downbound-gamma', 'Emerging-downbound-positrons', 'Emerging-angle-electrons', 'Emerging-angle-gamma', 'Emerging-angle-positrons'])"
   ]
  },
  {
   "cell_type": "markdown",
   "id": "51eb9618-5b6a-4e8d-9017-de3e63a575d6",
   "metadata": {},
   "source": [
    "##### Cylindrical dose results"
   ]
  },
  {
   "cell_type": "code",
   "execution_count": null,
   "id": "27f98d34-4c82-4343-a4f5-1b2650a95f26",
   "metadata": {},
   "outputs": [],
   "source": [
    "pyPenred.plotResults(sim,\"disc_0_Cyl-Dose\", titles = ['cylDose'])"
   ]
  },
  {
   "cell_type": "markdown",
   "id": "9c11bb73-1d99-4b73-8bd7-14bb61fea069",
   "metadata": {},
   "source": [
    "##### Angular energy spectrum results"
   ]
  },
  {
   "cell_type": "code",
   "execution_count": null,
   "id": "9027c49f-3a7c-4270-b0c4-7a5fdb399ec9",
   "metadata": {},
   "outputs": [],
   "source": [
    "pyPenred.plotResults(sim,\"disc_0_Angular-Detector\", titles = ['Angular-energy-spc-electron', 'Angular-energy-spc-gamma', 'Angular-energy-spc-positron'])"
   ]
  }
 ],
 "metadata": {
  "kernelspec": {
   "display_name": "Python 3 (ipykernel)",
   "language": "python",
   "name": "python3"
  },
  "language_info": {
   "codemirror_mode": {
    "name": "ipython",
    "version": 3
   },
   "file_extension": ".py",
   "mimetype": "text/x-python",
   "name": "python",
   "nbconvert_exporter": "python",
   "pygments_lexer": "ipython3",
   "version": "3.13.7"
  }
 },
 "nbformat": 4,
 "nbformat_minor": 5
}
