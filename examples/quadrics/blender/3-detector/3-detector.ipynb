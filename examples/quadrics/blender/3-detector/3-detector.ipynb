{
 "cells": [
  {
   "cell_type": "markdown",
   "id": "05f04465-06b9-4ea4-b67f-5d327dfc0805",
   "metadata": {},
   "source": [
    "## 3.Detector"
   ]
  },
  {
   "cell_type": "markdown",
   "id": "744b5968-b283-4c5f-a486-0ebb54d3772b",
   "metadata": {},
   "source": [
    "### This example consists of a Co-60 gamma-ray source and a *NaI* cylindrical detector with *Fe* backing."
   ]
  },
  {
   "cell_type": "markdown",
   "id": "131f7904-bd58-4ee4-a450-f5c0ef0ec6d6",
   "metadata": {},
   "source": [
    "- Source: a point-like Co-60 gamma-ray source emits a photon pencil beam in the *-z* direction with equiprobable energies 1.17 and 1.33 MeV.\n",
    "- Geometry: a NaI cylindrical detector with 5.08 cm of diameter and 5.08 cm height, with 1.27 cm Fe backing.\n",
    "- Tallies:\n",
    "  - material and body energy deposition.\n",
    "  - emerging particle distribution.\n",
    "  - impact detector: energy deposition.\n",
    "  "
   ]
  },
  {
   "cell_type": "markdown",
   "id": "37b9ea93-fc98-4813-a201-d07374ea0bfe",
   "metadata": {},
   "source": [
    "### Execution"
   ]
  },
  {
   "cell_type": "markdown",
   "id": "8c527b05-217b-464b-973d-ae0ca9dff5db",
   "metadata": {},
   "source": [
    "The PenRed module for Python is imported"
   ]
  },
  {
   "cell_type": "code",
   "execution_count": null,
   "id": "44d42158-d805-4c88-9d6d-c58b6cf087a1",
   "metadata": {},
   "outputs": [],
   "source": [
    "import pyPenred"
   ]
  },
  {
   "cell_type": "markdown",
   "id": "b9cd86b6-4cf3-46f5-8c8d-64b73a159089",
   "metadata": {},
   "source": [
    "Run the simulation"
   ]
  },
  {
   "cell_type": "code",
   "execution_count": null,
   "id": "ea2901d7-57d4-46e9-9560-4d87505c376f",
   "metadata": {},
   "outputs": [],
   "source": [
    "sim = pyPenred.runFromFile(\"detector.in\")"
   ]
  },
  {
   "cell_type": "markdown",
   "id": "b39f26f6-f1a8-41b2-9c70-c5f59bc9da5e",
   "metadata": {},
   "source": [
    "### Results"
   ]
  },
  {
   "cell_type": "markdown",
   "id": "ce34453d-d684-4e21-a348-a491370c2231",
   "metadata": {},
   "source": [
    "#### Impact detector energy deposition"
   ]
  },
  {
   "cell_type": "code",
   "execution_count": null,
   "id": "3d3e83e2-950b-4061-860c-c07b3d900ad5",
   "metadata": {},
   "outputs": [],
   "source": [
    "pyPenred.plotResults(sim,\"NaIcyl_0_1\", titles=['0', '0', '0', '0', '0', '0', 'Energy deposition'])"
   ]
  },
  {
   "cell_type": "code",
   "execution_count": null,
   "id": "c60ba3dd-0ca2-47c2-88bf-8fb279d1338d",
   "metadata": {},
   "outputs": [],
   "source": [
    "pyPenred.plotResults(sim,\"matEDep\", vrange=[0,2])"
   ]
  }
 ],
 "metadata": {
  "kernelspec": {
   "display_name": "Python 3 (ipykernel)",
   "language": "python",
   "name": "python3"
  },
  "language_info": {
   "codemirror_mode": {
    "name": "ipython",
    "version": 3
   },
   "file_extension": ".py",
   "mimetype": "text/x-python",
   "name": "python",
   "nbconvert_exporter": "python",
   "pygments_lexer": "ipython3",
   "version": "3.13.7"
  }
 },
 "nbformat": 4,
 "nbformat_minor": 5
}
