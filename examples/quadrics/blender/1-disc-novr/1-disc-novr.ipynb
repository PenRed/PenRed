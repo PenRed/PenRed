{
 "cells": [
  {
   "cell_type": "markdown",
   "id": "05f04465-06b9-4ea4-b67f-5d327dfc0805",
   "metadata": {},
   "source": [
    "## 1.Disc example with no variance reduction techniques"
   ]
  },
  {
   "cell_type": "markdown",
   "id": "744b5968-b283-4c5f-a486-0ebb54d3772b",
   "metadata": {},
   "source": [
    "### This example presents a point source of electrons and a homogeneous disc phantom of *Cu*.\n"
   ]
  },
  {
   "cell_type": "markdown",
   "id": "131f7904-bd58-4ee4-a450-f5c0ef0ec6d6",
   "metadata": {},
   "source": [
    "- Source: a monoenergetic electron beam of 40 keV, located at *(x,y,z)* = (0.0,0.0,-0.0001) cm directed to the *z* positive axis.\n",
    "- Geometry: a disc with radius = 0.01 cm at plane XY, and a height of 0.005 cm at *z* axis with its base a *z* = 0 cm\n",
    "- Tallies:\n",
    "  - material energy deposition.\n",
    "  - cylindrical dose distribution.\n",
    "  - emerging particle distribution.\n",
    "  - impact detector: fluence and spectrum.\n",
    "  - spatial dose distribution.\n",
    "  - angular detector."
   ]
  },
  {
   "cell_type": "markdown",
   "id": "37b9ea93-fc98-4813-a201-d07374ea0bfe",
   "metadata": {},
   "source": [
    "### Execution"
   ]
  },
  {
   "cell_type": "markdown",
   "id": "8c527b05-217b-464b-973d-ae0ca9dff5db",
   "metadata": {},
   "source": [
    "The PenRed module for Python is imported"
   ]
  },
  {
   "cell_type": "code",
   "execution_count": null,
   "id": "44d42158-d805-4c88-9d6d-c58b6cf087a1",
   "metadata": {},
   "outputs": [],
   "source": [
    "import pyPenred"
   ]
  },
  {
   "cell_type": "markdown",
   "id": "b9cd86b6-4cf3-46f5-8c8d-64b73a159089",
   "metadata": {},
   "source": [
    "Run the simulation"
   ]
  },
  {
   "cell_type": "code",
   "execution_count": null,
   "id": "ea2901d7-57d4-46e9-9560-4d87505c376f",
   "metadata": {},
   "outputs": [],
   "source": [
    "sim = pyPenred.runFromFile(\"disc.in\")"
   ]
  },
  {
   "cell_type": "markdown",
   "id": "b39f26f6-f1a8-41b2-9c70-c5f59bc9da5e",
   "metadata": {},
   "source": [
    "### Results"
   ]
  },
  {
   "cell_type": "markdown",
   "id": "150b042b-0b04-4bd2-93ca-c11a0ab63757",
   "metadata": {},
   "source": [
    "#### Plots using a python script"
   ]
  },
  {
   "cell_type": "markdown",
   "id": "f55de4e8-795d-4907-b626-009579c523a4",
   "metadata": {},
   "source": [
    "The simulation outputs a set of files that can be plotted using different software. In the case of Python, they can be visualized with the following script using numpy and matplotlib."
   ]
  },
  {
   "cell_type": "markdown",
   "id": "18a816a1-8d29-4142-9fed-6aed9192f07e",
   "metadata": {},
   "source": [
    "##### Fluence results:"
   ]
  },
  {
   "cell_type": "code",
   "execution_count": null,
   "id": "576a50bf-ca49-481d-8eff-0f587bca12c2",
   "metadata": {},
   "outputs": [],
   "source": [
    "import matplotlib.pyplot as plt\n",
    "import numpy as np\n",
    "\n",
    "filenameFln = 'disc_0_Impact-Detector-th0-fluenceTrackLength-1.dat'\n",
    "dataFln = np.loadtxt(filenameFln)\n",
    "\n",
    "\n",
    "energy = dataFln[:, 2]\n",
    "       \n",
    "doseTotal = dataFln[:, 3]    \n",
    "errorTotal = dataFln[:, 4]  \n",
    "\n",
    "doseE = dataFln[:, 5]    \n",
    "errorE = dataFln[:, 6]  \n",
    "\n",
    "dosePh = dataFln[:, 7]    \n",
    "errorPh = dataFln[:, 8]  \n",
    "\n",
    "doseP = dataFln[:, 9]    \n",
    "errorP = dataFln[:, 10]  \n",
    "\n",
    "\n",
    "plt.figure(figsize=(9, 6))\n",
    "\n",
    "plt.title('Integrated fluence spectrum - total', fontsize=22)\n",
    "plt.xlabel('Energy   (eV)', fontsize=22, labelpad=15)\n",
    "plt.ylabel('Fluence (cm/eV)  per history', fontsize=22, labelpad=20)\n",
    "plt.grid(True, linestyle='--', alpha=0.7)\n",
    "\n",
    "plt.errorbar(energy, doseTotal, yerr=errorTotal, fmt='o', color='red', ecolor='red', label='', markersize=6, capsize=5)\n",
    "\n",
    "output_filename = 'FluenceTotal.png'\n",
    "plt.savefig(output_filename, dpi=300)\n",
    "plt.show()\n",
    "\n",
    "plt.figure(figsize=(9, 6))\n",
    "plt.title('Integrated fluence spectrum - electron', fontsize=22)\n",
    "plt.xlabel('Energy   (eV)', fontsize=22, labelpad=15)\n",
    "plt.ylabel('Fluence (cm/eV)  per history', fontsize=22, labelpad=20)\n",
    "plt.grid(True, linestyle='--', alpha=0.7)\n",
    "\n",
    "plt.errorbar(energy, doseE, yerr=errorE, fmt='o', color='red', ecolor='red', label='', markersize=6, capsize=5)\n",
    "\n",
    "output_filename = 'Fluence-gamma.png'\n",
    "plt.savefig(output_filename, dpi=300)\n",
    "plt.show()\n",
    "\n",
    "plt.figure(figsize=(9, 6))\n",
    "plt.title('Integrated fluence spectrum - gamma', fontsize=22)\n",
    "plt.xlabel('Energy   (eV)', fontsize=22, labelpad=15)\n",
    "plt.ylabel('Fluence (cm/eV)  per history', fontsize=22, labelpad=20)\n",
    "plt.grid(True, linestyle='--', alpha=0.7)\n",
    "\n",
    "plt.errorbar(energy, dosePh, yerr=errorPh, fmt='o', color='red', ecolor='red', label='', markersize=6, capsize=5)\n",
    "\n",
    "output_filename = 'Fluence-gamma.png'\n",
    "plt.savefig(output_filename, dpi=300)\n",
    "plt.show()\n",
    "\n",
    "plt.figure(figsize=(9, 6))\n",
    "plt.title('Integrated fluence spectrum - positron', fontsize=22)\n",
    "plt.xlabel('Energy   (eV)', fontsize=22, labelpad=15)\n",
    "plt.ylabel('Fluence (cm/eV)  per history', fontsize=22, labelpad=20)\n",
    "plt.grid(True, linestyle='--', alpha=0.7)\n",
    "\n",
    "plt.errorbar(energy, doseP, yerr=errorP, fmt='o', color='red', ecolor='red', label='', markersize=6, capsize=5)\n",
    "\n",
    "output_filename = 'Fluence-positron.png'\n",
    "plt.savefig(output_filename, dpi=300)\n",
    "plt.show()"
   ]
  },
  {
   "cell_type": "markdown",
   "id": "b1c677aa-a636-434b-abbe-5ed9ffd1e29f",
   "metadata": {},
   "source": [
    "##### Spectrum results"
   ]
  },
  {
   "cell_type": "code",
   "execution_count": null,
   "id": "eb34d8c7-9d3f-4428-9545-579d7639737e",
   "metadata": {},
   "outputs": [],
   "source": [
    "import matplotlib.pyplot as plt\n",
    "import numpy as np\n",
    "\n",
    "filenameSpc = 'disc_0_Impact-Detector-th0-spectrum-impdet-1.dat'\n",
    "data = np.loadtxt(filenameSpc)\n",
    "\n",
    "\n",
    "energy = dataFln[:, 0]\n",
    "       \n",
    "doseTotal = data[:, 1]    \n",
    "errorTotal = data[:, 2]  \n",
    "\n",
    "doseE = data[:, 3]    \n",
    "errorE = data[:, 4]  \n",
    "\n",
    "dosePh = data[:, 5]    \n",
    "errorPh = data[:, 6]  \n",
    "\n",
    "doseP = data[:, 7]    \n",
    "errorP = data[:, 8]  \n",
    "\n",
    "\n",
    "plt.figure(figsize=(9, 6))\n",
    "\n",
    "plt.title('Energy spectrum - total', fontsize=22)\n",
    "plt.xlabel('Energy   (eV)', fontsize=22, labelpad=15)\n",
    "plt.ylabel('Spectrum 1/(eV*history)', fontsize=22, labelpad=20)\n",
    "plt.grid(True, linestyle='--', alpha=0.7)\n",
    "\n",
    "plt.errorbar(energy, doseTotal, yerr=errorTotal, fmt='o', color='red', ecolor='red', label='', markersize=6, capsize=5)\n",
    "\n",
    "output_filename = 'SpectrumTotal.png'\n",
    "plt.savefig(output_filename, dpi=300)\n",
    "plt.show()\n",
    "\n",
    "plt.figure(figsize=(9, 6))\n",
    "plt.title('Energy spectrum - electron', fontsize=22)\n",
    "plt.xlabel('Energy   (eV)', fontsize=22, labelpad=15)\n",
    "plt.ylabel('Spectrum 1/(eV*history)', fontsize=22, labelpad=20)\n",
    "plt.grid(True, linestyle='--', alpha=0.7)\n",
    "\n",
    "plt.errorbar(energy, doseE, yerr=errorE, fmt='o', color='red', ecolor='red', label='', markersize=6, capsize=5)\n",
    "\n",
    "output_filename = 'Spectrum-gamma.png'\n",
    "plt.savefig(output_filename, dpi=300)\n",
    "plt.show()\n",
    "\n",
    "plt.figure(figsize=(9, 6))\n",
    "plt.title('Energy spectrum - gamma', fontsize=22)\n",
    "plt.xlabel('Energy   (eV)', fontsize=22, labelpad=15)\n",
    "plt.ylabel('Spectrum 1/(eV*history)', fontsize=22, labelpad=20)\n",
    "plt.grid(True, linestyle='--', alpha=0.7)\n",
    "\n",
    "plt.errorbar(energy, dosePh, yerr=errorPh, fmt='o', color='red', ecolor='red', label='', markersize=6, capsize=5)\n",
    "\n",
    "output_filename = 'Fluence-gamma.png'\n",
    "plt.savefig(output_filename, dpi=300)\n",
    "plt.show()\n",
    "\n",
    "plt.figure(figsize=(9, 6))\n",
    "plt.title('Energy spectrum - positron', fontsize=22)\n",
    "plt.xlabel('Energy   (eV)', fontsize=22, labelpad=15)\n",
    "plt.ylabel('Spectrum 1/(eV*history)', fontsize=22, labelpad=20)\n",
    "plt.grid(True, linestyle='--', alpha=0.7)\n",
    "\n",
    "plt.errorbar(energy, doseP, yerr=errorP, fmt='o', color='red', ecolor='red', label='', markersize=6, capsize=5)\n",
    "\n",
    "output_filename = 'Fluence-positron.png'\n",
    "plt.savefig(output_filename, dpi=300)\n",
    "plt.show()"
   ]
  },
  {
   "cell_type": "markdown",
   "id": "c12ba9d7-2283-4cbf-90ec-f1ec27456e0b",
   "metadata": {},
   "source": [
    "#### plotResults function "
   ]
  },
  {
   "cell_type": "markdown",
   "id": "afea9dd1-bf0a-4d28-8bd1-3eeacb2ef4eb",
   "metadata": {},
   "source": [
    "In addition, the simulation results can be plotted directly using the plotResults function if the simulation object is stored in a variable. This function accepts several arguments. The simulation object and the tally name are mandatory, while others, such as the value or error range, title etc, can be configured based on user needs."
   ]
  },
  {
   "cell_type": "markdown",
   "id": "256f50b6-05fe-4663-86d0-e55b7e979448",
   "metadata": {},
   "source": [
    "##### Fluence and spectrum results"
   ]
  },
  {
   "cell_type": "code",
   "execution_count": null,
   "id": "d21d07fa-a582-4c49-a5f9-7f35a6c18df6",
   "metadata": {},
   "outputs": [],
   "source": [
    "pyPenred.plotResults(sim,\"disc_0_Impact-Detector\", titles=['fluence-electron', 'fluence-gamma', 'fluence-positron', 'spectrum-electron', 'spectrum-gamma', 'spectrum-positron'])"
   ]
  },
  {
   "cell_type": "markdown",
   "id": "03183dd1-3026-4f96-90e8-8d684b6ceb35",
   "metadata": {},
   "source": [
    "#### getResults function"
   ]
  },
  {
   "cell_type": "markdown",
   "id": "84943693-0384-42e1-972b-02b83e8c44b6",
   "metadata": {},
   "source": [
    "Finally, the getResults function can be used and the provided data can be represented using also a Python script"
   ]
  },
  {
   "cell_type": "markdown",
   "id": "4acaf12a-6912-4f5c-b656-c8164da9674a",
   "metadata": {},
   "source": [
    "##### Angular energy spectrum results"
   ]
  },
  {
   "cell_type": "code",
   "execution_count": null,
   "id": "e1140f63-37d9-4510-b457-e26ddedfb1e5",
   "metadata": {},
   "outputs": [],
   "source": [
    "angDet = sim.getResults(\"disc_0_Angular-Detector\")\n",
    "angDet"
   ]
  },
  {
   "cell_type": "code",
   "execution_count": null,
   "id": "d98d431e-ca4b-4ebf-9565-2fe807a39c00",
   "metadata": {},
   "outputs": [],
   "source": [
    "import matplotlib.pyplot as plt\n",
    "import numpy as np\n",
    "\n",
    "ebin = range(1, 201)\n",
    "spcelectron = angDet[0][0]\n",
    "errorE = angDet[0][1]\n",
    "\n",
    "spcphoton = angDet[1][0]\n",
    "errorPh = angDet[1][1]\n",
    "\n",
    "\n",
    "plt.figure(figsize=(9, 6))\n",
    "\n",
    "plt.title('Energy spectrum - electron', fontsize=22)\n",
    "plt.xlabel('Energy bin', fontsize=22, labelpad=15)\n",
    "plt.ylabel('Spectrum (1/(eV*sr*particle))', fontsize=22, labelpad=20)\n",
    "plt.grid(True, linestyle='--', alpha=0.7)\n",
    "\n",
    "plt.errorbar(ebin, spcelectron , yerr=errorE, fmt='o', color='red', ecolor='red', label='', markersize=6, capsize=5)\n",
    "\n",
    "output_filename = 'Spectrum-electron.png'\n",
    "plt.savefig(output_filename, dpi=300)\n",
    "plt.show()\n",
    "\n",
    "plt.figure(figsize=(9, 6))\n",
    "plt.title('Energy spectrum - gamma', fontsize=22)\n",
    "plt.xlabel('Energy bin', fontsize=22, labelpad=15)\n",
    "plt.ylabel('Spectrum (1/(eV*sr*particle))', fontsize=22, labelpad=20)\n",
    "plt.grid(True, linestyle='--', alpha=0.7)\n",
    "\n",
    "plt.errorbar(ebin, spcphoton , yerr=errorPh, fmt='o', color='red', ecolor='red', label='', markersize=6, capsize=5)\n",
    "\n",
    "output_filename = 'Spectrum-gamma.png'\n",
    "plt.savefig(output_filename, dpi=300)\n",
    "plt.show()\n"
   ]
  },
  {
   "cell_type": "code",
   "execution_count": null,
   "id": "54901444-513d-490c-af89-68da68b7c9ce",
   "metadata": {},
   "outputs": [],
   "source": []
  }
 ],
 "metadata": {
  "kernelspec": {
   "display_name": "Python 3 (ipykernel)",
   "language": "python",
   "name": "python3"
  },
  "language_info": {
   "codemirror_mode": {
    "name": "ipython",
    "version": 3
   },
   "file_extension": ".py",
   "mimetype": "text/x-python",
   "name": "python",
   "nbconvert_exporter": "python",
   "pygments_lexer": "ipython3",
   "version": "3.13.7"
  }
 },
 "nbformat": 4,
 "nbformat_minor": 5
}
