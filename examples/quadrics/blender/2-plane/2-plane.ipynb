{
 "cells": [
  {
   "cell_type": "markdown",
   "id": "05f04465-06b9-4ea4-b67f-5d327dfc0805",
   "metadata": {},
   "source": [
    "## 2.Plane"
   ]
  },
  {
   "cell_type": "markdown",
   "id": "744b5968-b283-4c5f-a486-0ebb54d3772b",
   "metadata": {},
   "source": [
    "### This example presents a semi-infinite water plane with a spherical detector inside."
   ]
  },
  {
   "cell_type": "markdown",
   "id": "131f7904-bd58-4ee4-a450-f5c0ef0ec6d6",
   "metadata": {},
   "source": [
    "- Source: a monoenergetic photon beam of 30 MeV, located at *(x,y,z)* = (0.0,0.0,-25.0) cm directed to the *z* positive axis.\n",
    "- Geometry: a semi-infinit water plane with a sphere detector inside with radius = 2 cm at *(x,y,z)* = (0.0,0.0,10.0) cm.\n",
    "- Tallies:\n",
    "  - material and body energy deposition.\n",
    "  - cylindrical dose distribution.\n",
    "  - emerging particle distribution.\n",
    "  - impact detector: fluence spectrum and age.\n",
    "  - spatial dose distribution."
   ]
  },
  {
   "cell_type": "markdown",
   "id": "37b9ea93-fc98-4813-a201-d07374ea0bfe",
   "metadata": {},
   "source": [
    "### Execution"
   ]
  },
  {
   "cell_type": "markdown",
   "id": "8c527b05-217b-464b-973d-ae0ca9dff5db",
   "metadata": {},
   "source": [
    "The PenRed module for Python is imported"
   ]
  },
  {
   "cell_type": "code",
   "execution_count": null,
   "id": "44d42158-d805-4c88-9d6d-c58b6cf087a1",
   "metadata": {},
   "outputs": [],
   "source": [
    "import pyPenred"
   ]
  },
  {
   "cell_type": "markdown",
   "id": "b9cd86b6-4cf3-46f5-8c8d-64b73a159089",
   "metadata": {},
   "source": [
    "Run the simulation"
   ]
  },
  {
   "cell_type": "code",
   "execution_count": null,
   "id": "ea2901d7-57d4-46e9-9560-4d87505c376f",
   "metadata": {},
   "outputs": [],
   "source": [
    "sim = pyPenred.runFromFile(\"plane.in\")"
   ]
  },
  {
   "cell_type": "markdown",
   "id": "b39f26f6-f1a8-41b2-9c70-c5f59bc9da5e",
   "metadata": {},
   "source": [
    "### Results"
   ]
  },
  {
   "cell_type": "markdown",
   "id": "1b0d2bd3-d0e9-4792-a212-4ea753345391",
   "metadata": {},
   "source": [
    "##### Fluence, spectrum and age results"
   ]
  },
  {
   "cell_type": "code",
   "execution_count": null,
   "id": "03e62471-0699-4158-b5a5-d290fe6b512b",
   "metadata": {},
   "outputs": [],
   "source": [
    "pyPenred.plotResults(sim,\"detector_0_impact\", titles=['fluence-electron', 'fluence-gamma', 'fluence-positron', 'spectrum-electron', 'spectrum-gamma', 'spectrum-positron', '0','age'])"
   ]
  },
  {
   "cell_type": "markdown",
   "id": "79e6e1ea-42e5-4679-882c-c38032379087",
   "metadata": {},
   "source": [
    "##### Emerging particle results"
   ]
  },
  {
   "cell_type": "code",
   "execution_count": null,
   "id": "0c06dbc6-054d-429d-8da1-287fa94ea4be",
   "metadata": {},
   "outputs": [],
   "source": [
    "pyPenred.plotResults(sim,\"0_Emerging-Part\", titles=['Emerging-upbound-electrons', 'Emerging-upbound-gamma', 'Emerging-upbound-positrons', 'Emerging-downbound-electrons', 'Emerging-downbound-gamma', 'Emerging-downbound-positrons', 'Emerging-angle-electrons', 'Emerging-angle-gamma', 'Emerging-angle-positrons'])"
   ]
  },
  {
   "cell_type": "markdown",
   "id": "077af71f-185c-4489-93ee-d9883d25b6d5",
   "metadata": {},
   "source": [
    "##### Cylindrical dose results"
   ]
  },
  {
   "cell_type": "code",
   "execution_count": null,
   "id": "1decd263-de3c-4fd4-8e82-b727e311d49d",
   "metadata": {},
   "outputs": [],
   "source": [
    "pyPenred.plotResults(sim,\"cylDose_0_1\", titles = ['cylDose'])"
   ]
  }
 ],
 "metadata": {
  "kernelspec": {
   "display_name": "Python 3 (ipykernel)",
   "language": "python",
   "name": "python3"
  },
  "language_info": {
   "codemirror_mode": {
    "name": "ipython",
    "version": 3
   },
   "file_extension": ".py",
   "mimetype": "text/x-python",
   "name": "python",
   "nbconvert_exporter": "python",
   "pygments_lexer": "ipython3",
   "version": "3.13.7"
  }
 },
 "nbformat": 4,
 "nbformat_minor": 5
}
