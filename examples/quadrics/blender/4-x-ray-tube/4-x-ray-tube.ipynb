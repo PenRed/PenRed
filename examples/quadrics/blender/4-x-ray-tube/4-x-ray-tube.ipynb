{
 "cells": [
  {
   "cell_type": "markdown",
   "id": "05f04465-06b9-4ea4-b67f-5d327dfc0805",
   "metadata": {},
   "source": [
    "## 4.x-ray tube"
   ]
  },
  {
   "cell_type": "markdown",
   "id": "744b5968-b283-4c5f-a486-0ebb54d3772b",
   "metadata": {},
   "source": [
    "### This example corresponds to a simple x-ray generator with an anode, aluminium filter and silicon detector."
   ]
  },
  {
   "cell_type": "markdown",
   "id": "131f7904-bd58-4ee4-a450-f5c0ef0ec6d6",
   "metadata": {},
   "source": [
    "- Source: a monoenergetic electron beam of 150 keV, located at *(x,y,z)* = (-5.0,0.0,0.0) cm directed to the *x* positive axis, impigning the anode.\n",
    "- Geometry: an anode of wolframium with anodic angle of 45 degres, an Al filter with 1 mm thicknes and a silicon detector.\n",
    "- Tallies:\n",
    "  - material and body energy deposition.\n",
    "  - emerging particle distribution.\n",
    "  - impact detector (filter): fluence, spectrum and age.\n",
    "  - impact detector (detector): spectrum and age.\n",
    "- Variance reduction techniques aplied to the anode, filter and detector:\n",
    "  - electron interaction forcing (bremsstrahlung and inner shell interaction)\n",
    "  - x-ray and bremsstrahlung splitting "
   ]
  },
  {
   "cell_type": "markdown",
   "id": "37b9ea93-fc98-4813-a201-d07374ea0bfe",
   "metadata": {},
   "source": [
    "### Execution"
   ]
  },
  {
   "cell_type": "markdown",
   "id": "8c527b05-217b-464b-973d-ae0ca9dff5db",
   "metadata": {},
   "source": [
    "The PenRed module for Python is imported"
   ]
  },
  {
   "cell_type": "code",
   "execution_count": null,
   "id": "44d42158-d805-4c88-9d6d-c58b6cf087a1",
   "metadata": {},
   "outputs": [],
   "source": [
    "import pyPenred"
   ]
  },
  {
   "cell_type": "markdown",
   "id": "b9cd86b6-4cf3-46f5-8c8d-64b73a159089",
   "metadata": {},
   "source": [
    "Run the simulation"
   ]
  },
  {
   "cell_type": "code",
   "execution_count": null,
   "id": "ea2901d7-57d4-46e9-9560-4d87505c376f",
   "metadata": {},
   "outputs": [],
   "source": [
    "sim = pyPenred.runFromFile(\"tube.in\")"
   ]
  },
  {
   "cell_type": "markdown",
   "id": "b39f26f6-f1a8-41b2-9c70-c5f59bc9da5e",
   "metadata": {},
   "source": [
    "### Results"
   ]
  },
  {
   "cell_type": "markdown",
   "id": "0ddfc39f-9bec-48cc-92c9-ab75b6ebeeb0",
   "metadata": {},
   "source": [
    "##### Fluence, spectrum and age results for filter and detector"
   ]
  },
  {
   "cell_type": "code",
   "execution_count": null,
   "id": "576a50bf-ca49-481d-8eff-0f587bca12c2",
   "metadata": {},
   "outputs": [],
   "source": [
    "pyPenred.plotResults(sim,\"filter_0_1\", titles=['filter-fluence-electron', 'filter-fluence-gamma', 'filter-fluence-positron', 'filter-spectrum-electron', 'filter-spectrum-gamma', 'filter-spectrum-positron', '0', 'filter-age'])"
   ]
  },
  {
   "cell_type": "code",
   "execution_count": null,
   "id": "fb6a18d1-76be-4c98-8575-01823fbf8bc2",
   "metadata": {},
   "outputs": [],
   "source": [
    "pyPenred.plotResults(sim,\"detector_0_1\", titles=['0', '0', '0', 'detector-spectrum-electron', 'detector-spectrum-gamma', 'detector-spectrum-positron', '0', 'detector-age'])"
   ]
  },
  {
   "cell_type": "markdown",
   "id": "ffa6f848-56cf-4027-8b44-2f8a74d603a0",
   "metadata": {},
   "source": [
    "## PenRed x-ray utility"
   ]
  },
  {
   "cell_type": "markdown",
   "id": "80c8b415-1bc8-4e17-96fb-f8b0a0bbddcc",
   "metadata": {},
   "source": [
    "Simulates an electron beam impinging on an anode and records the resulting photon spectrum and spatial distribution."
   ]
  },
  {
   "cell_type": "code",
   "execution_count": null,
   "id": "0c06dbc6-054d-429d-8da1-287fa94ea4be",
   "metadata": {},
   "outputs": [],
   "source": [
    "import pyPenred\n",
    "\n",
    "results = pyPenred.simulation.xray.deviceSim(ebins=200, focal_spot=0.6, inherent_filter_width=0.1, detector_dx=4, detector_dy= 4, kvp=150, anode_angle=45, source_to_detector=10.0, max_time=600, histories=1.0e8)\n"
   ]
  },
  {
   "cell_type": "markdown",
   "id": "386a12b2-ce58-4342-9cb8-4d2c80b4f625",
   "metadata": {},
   "source": [
    "### Results"
   ]
  },
  {
   "cell_type": "code",
   "execution_count": null,
   "id": "3f0c9582-ea0a-4aa2-8f68-eb292d8233ec",
   "metadata": {},
   "outputs": [],
   "source": [
    "import matplotlib.pyplot as plt\n",
    "import numpy as np\n",
    "\n",
    "eLimits = results[0]\n",
    "xLimits = results[3]\n",
    "yLimits = results[4]\n",
    "\n",
    "\n",
    "e_plot = np.linspace(eLimits[0], eLimits[1], len(results[1]))\n",
    "\n",
    "\n",
    "plt.plot(e_plot, results[1])\n",
    "plt.title(\"Device spectrum\")\n",
    "plt.xlabel(\"E (keV)\")\n",
    "plt.ylabel(\"Prob/hist\")\n",
    "plt.savefig('device-spectrum.png')\n",
    "plt.show()\n",
    "plt.close()\n",
    "\n",
    "\n",
    "plt.imshow(results[5],\n",
    "           extent=[xLimits[0], xLimits[1], yLimits[0], yLimits[1]],\n",
    "           aspect='auto',\n",
    "           origin='lower',\n",
    "           interpolation='none',\n",
    "           cmap='viridis')\n",
    "\n",
    "plt.title(\"Detector energy deposition\")\n",
    "plt.colorbar()\n",
    "plt.xlabel(\"X cm\")\n",
    "plt.ylabel(\"Y cm\")\n",
    "plt.savefig('detector-energy-deposition.png')\n",
    "plt.show()\n",
    "plt.close()\n",
    "\n",
    "\n",
    "plt.imshow(results[7],\n",
    "           extent=[xLimits[0], xLimits[1], yLimits[0], yLimits[1]],\n",
    "           aspect='auto',\n",
    "           origin='lower',\n",
    "           interpolation='none',\n",
    "           cmap='viridis')\n",
    "\n",
    "plt.title(\"Detected fluence\")\n",
    "plt.colorbar()\n",
    "plt.xlabel(\"X cm\")\n",
    "plt.ylabel(\"Y cm\")\n",
    "plt.savefig('detector-fluence.png')\n"
   ]
  }
 ],
 "metadata": {
  "kernelspec": {
   "display_name": "Python 3 (ipykernel)",
   "language": "python",
   "name": "python3"
  },
  "language_info": {
   "codemirror_mode": {
    "name": "ipython",
    "version": 3
   },
   "file_extension": ".py",
   "mimetype": "text/x-python",
   "name": "python",
   "nbconvert_exporter": "python",
   "pygments_lexer": "ipython3",
   "version": "3.13.7"
  }
 },
 "nbformat": 4,
 "nbformat_minor": 5
}
